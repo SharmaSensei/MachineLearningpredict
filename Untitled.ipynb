{
 "cells": [
  {
   "cell_type": "code",
   "execution_count": 6,
   "id": "b89728c0-4b51-4d2d-a441-bfde67187414",
   "metadata": {},
   "outputs": [],
   "source": [
    "import pandas as pd\n",
    "from sklearn.tree import DecisionTreeClassifier\n",
    "import joblib as jb"
   ]
  },
  {
   "cell_type": "code",
   "execution_count": 7,
   "id": "255e276e-9796-4084-a8ae-2a4548be2899",
   "metadata": {},
   "outputs": [],
   "source": [
    "# music_data = pd.read_csv(\"music.csv\")\n",
    "# X = music_data.drop(columns=['genre'])\n",
    "# Y = music_data['genre']"
   ]
  },
  {
   "cell_type": "code",
   "execution_count": 10,
   "id": "3e3401f4-40c7-46b1-962a-7d4c527c86cc",
   "metadata": {},
   "outputs": [
    {
     "data": {
      "text/plain": [
       "['music-recommend.joblib']"
      ]
     },
     "execution_count": 10,
     "metadata": {},
     "output_type": "execute_result"
    }
   ],
   "source": [
    "# model = DecisionTreeClassifier()\n",
    "# model.fit(X, Y)\n",
    "jb.load('music-recommend.joblib') "
   ]
  },
  {
   "cell_type": "code",
   "execution_count": 11,
   "id": "b8d991db-86d1-4b75-ad35-df2119f1f1f5",
   "metadata": {},
   "outputs": [
    {
     "name": "stderr",
     "output_type": "stream",
     "text": [
      "C:\\ProgramData\\anaconda3\\Lib\\site-packages\\sklearn\\base.py:439: UserWarning: X does not have valid feature names, but DecisionTreeClassifier was fitted with feature names\n",
      "  warnings.warn(\n"
     ]
    },
    {
     "data": {
      "text/plain": [
       "array(['HipHop'], dtype=object)"
      ]
     },
     "execution_count": 11,
     "metadata": {},
     "output_type": "execute_result"
    }
   ],
   "source": [
    "predictions = model.predict([[21,1]])\n",
    "predictions"
   ]
  },
  {
   "cell_type": "code",
   "execution_count": null,
   "id": "3f91441e-f0bd-4ce5-9572-f4efedb93b3d",
   "metadata": {},
   "outputs": [],
   "source": []
  }
 ],
 "metadata": {
  "kernelspec": {
   "display_name": "Python 3 (ipykernel)",
   "language": "python",
   "name": "python3"
  },
  "language_info": {
   "codemirror_mode": {
    "name": "ipython",
    "version": 3
   },
   "file_extension": ".py",
   "mimetype": "text/x-python",
   "name": "python",
   "nbconvert_exporter": "python",
   "pygments_lexer": "ipython3",
   "version": "3.11.7"
  }
 },
 "nbformat": 4,
 "nbformat_minor": 5
}
